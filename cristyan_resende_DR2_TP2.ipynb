{
  "nbformat": 4,
  "nbformat_minor": 0,
  "metadata": {
    "colab": {
      "provenance": [],
      "authorship_tag": "ABX9TyMAe/ff4B6JBMQKF21YzAde",
      "include_colab_link": true
    },
    "kernelspec": {
      "name": "python3",
      "display_name": "Python 3"
    },
    "language_info": {
      "name": "python"
    }
  },
  "cells": [
    {
      "cell_type": "markdown",
      "metadata": {
        "id": "view-in-github",
        "colab_type": "text"
      },
      "source": [
        "<a href=\"https://colab.research.google.com/github/cris-resende/Cadastro_de_funcionarios/blob/main/cristyan_resende_DR2_TP2.ipynb\" target=\"_parent\"><img src=\"https://colab.research.google.com/assets/colab-badge.svg\" alt=\"Open In Colab\"/></a>"
      ]
    },
    {
      "cell_type": "markdown",
      "source": [
        "Nível minhoquinha"
      ],
      "metadata": {
        "id": "WjyFvzxYdpaR"
      }
    },
    {
      "cell_type": "code",
      "execution_count": null,
      "metadata": {
        "id": "qj6t2aSMdhOz"
      },
      "outputs": [],
      "source": [
        "string = input('Digite uma string (conjunto de caracteres):')\n",
        "\n",
        "lista = []\n",
        "for i in string:\n",
        "  lista.append(i)\n",
        "print(lista)"
      ]
    },
    {
      "cell_type": "code",
      "source": [
        "numeros = int(input('Digite um número de cada vez (digite 0 para encerrar):'))\n",
        "lista_numeros = []\n",
        "\n",
        "while numeros != 0:\n",
        "    lista_numeros.append(numeros)\n",
        "    numeros = int(input('Digite um número de cada vez (digite 0 para encerrar):'))\n",
        "\n",
        "print('Os numeros digitados são: ',lista_numeros)"
      ],
      "metadata": {
        "id": "nSBKEVk3eC9F"
      },
      "execution_count": null,
      "outputs": []
    },
    {
      "cell_type": "code",
      "source": [
        "lista_numeros = [1, 2, 5, 66, 9, 88, 77, 98, 14, 24]\n",
        "soma = 0\n",
        "\n",
        "for i in lista_numeros:\n",
        "    soma += i\n",
        "\n",
        "media = soma/len(lista_numeros)\n",
        "print(media)"
      ],
      "metadata": {
        "id": "EOrpXnt_eIh9"
      },
      "execution_count": null,
      "outputs": []
    },
    {
      "cell_type": "code",
      "source": [
        "def imprime_mensagem(mensagem):\n",
        "    print(mensagem)\n",
        "\n",
        "imprime_mensagem('Olá, mundo!')\n"
      ],
      "metadata": {
        "id": "WU_9zC7YeYG0"
      },
      "execution_count": null,
      "outputs": []
    },
    {
      "cell_type": "code",
      "source": [
        "def saudacao(nome):\n",
        "    print('Olá,',nome,'!')\n",
        "\n",
        "saudacao('Cristyan')"
      ],
      "metadata": {
        "id": "MyC_bFCJecIm"
      },
      "execution_count": null,
      "outputs": []
    },
    {
      "cell_type": "code",
      "source": [
        "def saudacao(nome = 'usuário'):\n",
        "    print('Olá,',nome,'!')\n",
        "\n",
        "saudacao()"
      ],
      "metadata": {
        "id": "kAUXQO-GeghM"
      },
      "execution_count": null,
      "outputs": []
    },
    {
      "cell_type": "markdown",
      "source": [
        "Nivel cobrinha"
      ],
      "metadata": {
        "id": "KLqL1Bm-eo5E"
      }
    },
    {
      "cell_type": "code",
      "source": [
        "def potencia(base, expo = 2):\n",
        "    return base ** expo\n",
        "\n",
        "resultado = potencia(2)\n",
        "print(resultado)"
      ],
      "metadata": {
        "id": "_lOLwjAOesXy"
      },
      "execution_count": null,
      "outputs": []
    },
    {
      "cell_type": "code",
      "source": [
        "def maior_valor(n1 = 0, n2 = 0, n3 = 0):\n",
        "    maior = max(n1, n2, n3)\n",
        "    print(maior)\n",
        "    return sorted([n1, n2, n3])\n",
        "\n",
        "maior_valor(587, 56, 99)"
      ],
      "metadata": {
        "id": "DgziwyjBew6q"
      },
      "execution_count": null,
      "outputs": []
    },
    {
      "cell_type": "code",
      "source": [
        "def imprime_dados(nome = \"Alicate amperímetro\", preco = 169.9, quantidade_estq = 27):\n",
        "    print(f'O produto {nome}, está custando apenas R${preco}. Ainda restam {quantidade_estq} unidades no estoque.')\n",
        "\n",
        "imprime_dados()"
      ],
      "metadata": {
        "id": "FXE9aI6ve1ZF"
      },
      "execution_count": null,
      "outputs": []
    },
    {
      "cell_type": "code",
      "source": [
        "def potencia(base, expo = 2):\n",
        "|\"\"\"\n",
        "| Realiza o calculo de uma potência. Onde a base é elevada ao expoente que tem um valor padrão.\n",
        "|\n",
        "|Args:\n",
        "|base (int | float): Base da potencia.\n",
        "|expo (int|float): Expoente da potencia.\n",
        "|\n",
        "| Return:\n",
        "| (int|float): Resultado do potência.\n",
        "| \"\"\"\n",
        "\n",
        "def maior_valor(n1 = 0, n2 = 0, n3 = 0):\n",
        "|\"\"\"\n",
        "| Exibe o maior valor entre três argumentos numéricos.\n",
        "|\n",
        "|Args:\n",
        "| n1 (int|float): Primeiro número a ser considerado.\n",
        "| n2 (int|float): Segundo número a ser considerado.\n",
        "| n3 (int|float): Terceiro número a ser considerado.\n",
        "|\n",
        "| Return:\n",
        "| (list): Retorna uma lista ordenada contendo os três números.\n",
        "|\"\"\"\n",
        "\n",
        "def imprime_dados(nome = \"Alicate amperímetro\", preco = 169.9, quantidade_estq = 27):\n",
        "|\"\"\"\n",
        "| Exibe uma mensagem personalizada para um produto, utilizando argumentos passados com palavras-chave na função.\n",
        "|\n",
        "|Args:\n",
        "| nome (str): Nome do produto.\n",
        "| preco (int|float): Valor do produto\n",
        "| quantidade_estq (int): Quantidade do produto disponível em estoque.\n",
        "|\"\"\""
      ],
      "metadata": {
        "id": "L6QLSRHee5BZ"
      },
      "execution_count": null,
      "outputs": []
    },
    {
      "cell_type": "code",
      "source": [
        "def exibir_mensagem(mensagem, repeticoes = 1):\n",
        "    for _ in range(repeticoes):\n",
        "        print(mensagem)\n",
        "\n",
        "exibir_mensagem(\"Hello world!\")"
      ],
      "metadata": {
        "id": "aQ4qrhCpe82A"
      },
      "execution_count": null,
      "outputs": []
    },
    {
      "cell_type": "code",
      "source": [
        "n = int(input('Digite um número:'))\n",
        "\n",
        "def gerar_lista_pares(n):\n",
        "  lista_pares = []\n",
        "  for i in range(0, n+1, 2):\n",
        "    lista_pares.append(i)\n",
        "    print(lista_pares)\n",
        "  return lista_pares\n",
        "\n",
        "gerar_lista_pares(n)"
      ],
      "metadata": {
        "id": "-D3FjBdqfBmi"
      },
      "execution_count": null,
      "outputs": []
    },
    {
      "cell_type": "markdown",
      "source": [
        "Nível Python"
      ],
      "metadata": {
        "id": "jkYBV9IxfIZz"
      }
    },
    {
      "cell_type": "code",
      "source": [
        "def obter_numero_valido(mensagem):\n",
        "    while True:\n",
        "        try:\n",
        "            valor = float(input(mensagem))\n",
        "            return valor\n",
        "        except ValueError:\n",
        "            print(\"Entrada inválida. Por favor, digite um número.\")\n",
        "\n",
        "def valor_final(investimento, taxa_juros, anos):\n",
        "    montantes = []\n",
        "    montante = investimento\n",
        "    for anos in range(1, anos + 1):\n",
        "            montante *= (1 + taxa_juros)\n",
        "            montantes.append(montante)\n",
        "    return montantes\n",
        "\n",
        "investimento = obter_numero_valido(\"Qual o valor inicial do seu investimento?\")\n",
        "taxa_juros = obter_numero_valido(\"Qual taxa de juros anual voce deseja?\") / 100\n",
        "anos = int(obter_numero_valido(\"Por quantos anos você deseja manter o investimento?\"))\n",
        "\n",
        "resultados = valor_final(investimento, taxa_juros, anos)\n",
        "for anos, montante in enumerate(resultados, start=1):\n",
        "    print(f\"Após {anos} ano(s), o montante será de R$ {montante:.2f}\")"
      ],
      "metadata": {
        "id": "g5asAZwjfLYk"
      },
      "execution_count": null,
      "outputs": []
    },
    {
      "cell_type": "code",
      "source": [
        "def calcular_consumo(distancia, combustivel):\n",
        "  if combustivel == 0:\n",
        "    return \"Divisão por zero! Verifique os dados.\"\n",
        "  else:\n",
        "     return distancia / combustivel\n",
        "\n",
        "viagens = []\n",
        "\n",
        "while True:\n",
        "  distancia = float(input(\"Digite a distância percorrida em km (0 para sair): \"))\n",
        "  if distancia == 0:\n",
        "    break\n",
        "\n",
        "  combustivel = float(input(\"Qual foi a quantidade de combustível consumido em litros? \"))\n",
        "  consumo = calcular_consumo(distancia, combustivel)\n",
        "  print(f\"Seu carro fez {consumo:.2f} km/l nesta viagem.\")\n",
        "\n",
        "  viagens.append((distancia, combustivel))\n",
        "\n",
        "if viagens:\n",
        "  consumo_total = 0\n",
        "  for distancia, combustivel in viagens:\n",
        "    consumo_total += calcular_consumo(distancia, combustivel)\n",
        "  consumo_medio = consumo_total / len(viagens)\n",
        "  print(f\"O consumo médio geral foi de {consumo_medio:.2f} km/l.\")\n",
        "else:\n",
        "  print(\"Nenhuma viagem registrada.\")"
      ],
      "metadata": {
        "id": "4pAhztPUfP-G"
      },
      "execution_count": null,
      "outputs": []
    },
    {
      "cell_type": "code",
      "source": [
        "def validar_hora(hora):\n",
        "    return 0 <= hora <= 23\n",
        "\n",
        "def validar_temperatura(temperatura):\n",
        "    return -15 <= temperatura <= 60\n",
        "\n",
        "def calcular_media_ponderada(horarios, temperaturas):\n",
        "    if len(horarios) < 2:\n",
        "        return None\n",
        "\n",
        "    total = 0\n",
        "    peso_total = 0\n",
        "    for i in range(1, len(horarios)):\n",
        "        intervalo = horarios[i] - horarios[i-1]\n",
        "        peso = intervalo\n",
        "        total += temperaturas[i] * peso\n",
        "        peso_total += peso\n",
        "    return total / peso_total\n",
        "\n",
        "def encontrar_extremos(temperaturas):\n",
        "    if not temperaturas:\n",
        "        return None, None\n",
        "    return min(temperaturas), max(temperaturas)\n",
        "\n",
        "horarios = []\n",
        "temperaturas = []\n",
        "\n",
        "while True:\n",
        "    hora = input(\"Digite a hora (0-23) ou 'Fim' para encerrar: \")\n",
        "    if hora.lower() == 'fim':\n",
        "        break\n",
        "\n",
        "    try:\n",
        "        hora = int(hora)\n",
        "        if not validar_hora(hora):\n",
        "            print(\"Hora inválida. Digite um valor entre 0 e 23.\")\n",
        "            continue\n",
        "\n",
        "        temperatura = float(input(\"Digite a temperatura: \"))\n",
        "        if not validar_temperatura(temperatura):\n",
        "            print(\"Temperatura inválida. Digite um valor entre -15 e 60.\")\n",
        "            continue\n",
        "\n",
        "        horarios.append(hora)\n",
        "        temperaturas.append(temperatura)\n",
        "    except ValueError:\n",
        "        print(\"Entrada inválida. Digite um número.\")\n",
        "\n",
        "if horarios:\n",
        "    media_ponderada = calcular_media_ponderada(horarios, temperaturas)\n",
        "    min_temp, max_temp = encontrar_extremos(temperaturas)\n",
        "\n",
        "    print(f\"A temperatura média é: {media_ponderada:.2f}°C\")\n",
        "    print(f\"A temperatura mais baixa foi: {min_temp}°C\")\n",
        "    print(f\"A temperatura mais alta foi: {max_temp}°C\")\n",
        "\n",
        "    if 20 <= media_ponderada <= 30:\n",
        "        print(\"A temperatura média está dentro do intervalo de segurança.\")\n",
        "    else:\n",
        "        print(\"A temperatura média está fora do intervalo de segurança.\")\n",
        "else:\n",
        "    print(\"Nenhum dado foi registrado.\")"
      ],
      "metadata": {
        "id": "I_gjN8p0fVVt"
      },
      "execution_count": null,
      "outputs": []
    }
  ]
}